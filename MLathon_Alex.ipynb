{
  "nbformat": 4,
  "nbformat_minor": 0,
  "metadata": {
    "colab": {
      "name": "MLathon_Alex.ipynb",
      "provenance": [],
      "collapsed_sections": [],
      "authorship_tag": "ABX9TyNk1WLRrZ3ySHJGB0gkuXbQ",
      "include_colab_link": true
    },
    "kernelspec": {
      "name": "python3",
      "display_name": "Python 3"
    },
    "language_info": {
      "name": "python"
    }
  },
  "cells": [
    {
      "cell_type": "markdown",
      "metadata": {
        "id": "view-in-github",
        "colab_type": "text"
      },
      "source": [
        "<a href=\"https://colab.research.google.com/github/Aliraza777/ML_Project_Alex/blob/main/MLathon_Alex.ipynb\" target=\"_parent\"><img src=\"https://colab.research.google.com/assets/colab-badge.svg\" alt=\"Open In Colab\"/></a>"
      ]
    },
    {
      "cell_type": "code",
      "metadata": {
        "colab": {
          "base_uri": "https://localhost:8080/"
        },
        "id": "Vk8Jv3ZsrF_X",
        "outputId": "02ed5c12-5609-40cf-d60f-b3eea8d97431"
      },
      "source": [
        "from google.colab import drive\n",
        "drive.mount('/content/drive', force_remount=True)"
      ],
      "execution_count": 1,
      "outputs": [
        {
          "output_type": "stream",
          "text": [
            "Mounted at /content/drive\n"
          ],
          "name": "stdout"
        }
      ]
    },
    {
      "cell_type": "code",
      "metadata": {
        "id": "0xUURIxcsPeM"
      },
      "source": [
        "import numpy as np\n",
        "import pickle\n",
        "import weakref\n",
        "import cv2\n",
        "import os\n",
        "import tensorflow as tf\n",
        "from os import listdir\n",
        "from sklearn.preprocessing import LabelBinarizer\n",
        "from keras.models import Sequential\n",
        "from keras.layers.normalization import BatchNormalization\n",
        "from keras.layers.convolutional import Conv2D\n",
        "from keras.layers.convolutional import MaxPooling2D\n",
        "from keras.layers.core import Activation, Flatten, Dropout, Dense\n",
        "from keras import backend as K\n",
        "from keras.preprocessing.image import ImageDataGenerator\n",
        "from keras.optimizers import Adam\n",
        "from keras.preprocessing import image\n",
        "from keras.preprocessing.image import img_to_array\n",
        "from sklearn.preprocessing import MultiLabelBinarizer\n",
        "from sklearn.model_selection import train_test_split\n",
        "import matplotlib.pyplot as plt"
      ],
      "execution_count": 2,
      "outputs": []
    },
    {
      "cell_type": "code",
      "metadata": {
        "colab": {
          "base_uri": "https://localhost:8080/"
        },
        "id": "RyxX2NSbsYaL",
        "outputId": "a54d9e00-4984-47e7-a620-6329075b4a71"
      },
      "source": [
        "EPOCHS =10\n",
        "INIT_LR = 1e-3\n",
        "BS = 32\n",
        "default_image_size = tuple((227, 227))\n",
        "directory_root = '/content/drive/MyDrive/Dataset_ML/Train'\n",
        "width=227\n",
        "height=227\n",
        "depth=3\n",
        "for folder in root_dir:\n",
        "  print(folder)"
      ],
      "execution_count": 10,
      "outputs": [
        {
          "output_type": "stream",
          "text": [
            "Pepper__bell___Bacterial_spot\n",
            "Pepper__bell___healthy\n"
          ],
          "name": "stdout"
        }
      ]
    },
    {
      "cell_type": "code",
      "metadata": {
        "colab": {
          "base_uri": "https://localhost:8080/"
        },
        "id": "oITHCqHNscYI",
        "outputId": "0edddd53-f0a9-4fe3-b058-7429674f6947"
      },
      "source": [
        "image_list, label_list = [], []\n",
        "img_size=227\n",
        "try:\n",
        "    print(\"[INFO] Loading images ...\")\n",
        "    root_dir = listdir(directory_root)\n",
        "    for directory in root_dir :\n",
        "      print(\"Loading images from Folder : \" ,directory)\n",
        "      fp = os.path.join(directory_root,directory)\n",
        "      for eachImage in os.listdir(fp):\n",
        "        imagePath = os.path.join(fp,eachImage)\n",
        "        img = cv2.imread(imagePath)\n",
        "        resized = cv2.resize(img , (img_size , img_size))\n",
        "        image_list.append(resized)\n",
        "        label_list.append(directory)\n",
        "    print(\"[INFO] Image loading completed\")  \n",
        "except Exception as e:\n",
        "    print(f\"Error : {e}\")"
      ],
      "execution_count": 12,
      "outputs": [
        {
          "output_type": "stream",
          "text": [
            "[INFO] Loading images ...\n",
            "Loading images from Folder :  Pepper__bell___Bacterial_spot\n",
            "Loading images from Folder :  Pepper__bell___healthy\n",
            "[INFO] Image loading completed\n"
          ],
          "name": "stdout"
        }
      ]
    },
    {
      "cell_type": "code",
      "metadata": {
        "id": "jO8wWDbBsjYb"
      },
      "source": [
        "label_binarizer = LabelBinarizer()\n",
        "image_labels = label_binarizer.fit_transform(label_list)\n",
        "pickle.dump(label_binarizer,open('label_transform.pkl', 'wb'))\n",
        "n_classes = len(label_binarizer.classes_)"
      ],
      "execution_count": 13,
      "outputs": []
    },
    {
      "cell_type": "code",
      "metadata": {
        "colab": {
          "base_uri": "https://localhost:8080/"
        },
        "id": "BZmsV18dsm4y",
        "outputId": "125acf9e-8bfd-4d3c-abcf-440cc634a14f"
      },
      "source": [
        "np_image_list = np.array(image_list) / 255.0\n",
        "print(\"[INFO] Spliting data to train, test\")\n",
        "x_train, x_test, y_train, y_test = train_test_split(np_image_list, image_labels, test_size=0.2, random_state = 42) "
      ],
      "execution_count": 14,
      "outputs": [
        {
          "output_type": "stream",
          "text": [
            "[INFO] Spliting data to train, test\n"
          ],
          "name": "stdout"
        }
      ]
    },
    {
      "cell_type": "code",
      "metadata": {
        "id": "xx6tx0u4tSs1"
      },
      "source": [
        "aug = ImageDataGenerator(\n",
        "    rotation_range=25, width_shift_range=0.1,\n",
        "    height_shift_range=0.1, shear_range=0.2, \n",
        "    zoom_range=0.2,horizontal_flip=True, \n",
        "    fill_mode=\"nearest\")"
      ],
      "execution_count": 15,
      "outputs": []
    },
    {
      "cell_type": "code",
      "metadata": {
        "id": "8YpuyHXlt6P7"
      },
      "source": [
        "model=Sequential()\n",
        "\n",
        "#1 conv layer\n",
        "model.add(Conv2D(filters=96,kernel_size=(11,11),strides=(4,4),padding=\"valid\",activation=\"relu\",input_shape=(227,227,3)))\n",
        "\n",
        "#1 max pool layer\n",
        "model.add(MaxPooling2D(pool_size=(3,3),strides=(2,2)))\n",
        "\n",
        "model.add(BatchNormalization())\n",
        "\n",
        "#2 conv layer\n",
        "model.add(Conv2D(filters=256,kernel_size=(5,5),strides=(1,1),padding=\"valid\",activation=\"relu\"))\n",
        "\n",
        "#2 max pool layer\n",
        "model.add(MaxPooling2D(pool_size=(3,3),strides=(2,2)))\n",
        "\n",
        "model.add(BatchNormalization())\n",
        "\n",
        "#3 conv layer\n",
        "model.add(Conv2D(filters=384,kernel_size=(3,3),strides=(1,1),padding=\"valid\",activation=\"relu\"))\n",
        "\n",
        "#4 conv layer\n",
        "model.add(Conv2D(filters=384,kernel_size=(3,3),strides=(1,1),padding=\"valid\",activation=\"relu\"))\n",
        "\n",
        "#5 conv layer\n",
        "model.add(Conv2D(filters=256,kernel_size=(3,3),strides=(1,1),padding=\"valid\",activation=\"relu\"))\n",
        "\n",
        "#3 max pool layer\n",
        "model.add(MaxPooling2D(pool_size=(3,3),strides=(2,2)))\n",
        "\n",
        "model.add(BatchNormalization())\n",
        "\n",
        "\n",
        "model.add(Flatten())\n",
        "\n",
        "#1 dense layer\n",
        "model.add(Dense(4096,input_shape=(227,227,3),activation=\"relu\"))\n",
        "\n",
        "model.add(Dropout(0.5))\n",
        "\n",
        "model.add(BatchNormalization())\n",
        "\n",
        "#2 dense layer\n",
        "model.add(Dense(4096,activation=\"relu\"))\n",
        "\n",
        "model.add(Dropout(0.5))\n",
        "\n",
        "model.add(BatchNormalization())\n",
        "\n",
        "#3 dense layer\n",
        "model.add(Dense(4069,activation=\"relu\"))\n",
        "\n",
        "model.add(Dropout(0.5))\n",
        "\n",
        "model.add(BatchNormalization())\n",
        "\n",
        "#output layer\n",
        "model.add(Dense(20,activation=\"softmax\"))\n",
        "\n"
      ],
      "execution_count": 17,
      "outputs": []
    },
    {
      "cell_type": "code",
      "metadata": {
        "colab": {
          "base_uri": "https://localhost:8080/"
        },
        "id": "V2eap6HduBFn",
        "outputId": "e284c7da-ce7c-43ca-cab3-2306cf76ab3c"
      },
      "source": [
        "opt = Adam(learning_rate=INIT_LR, decay=INIT_LR / EPOCHS)\n",
        "# distribution\n",
        "model.compile(loss=\"sparse_categorical_crossentropy\", optimizer=tf.optimizers.SGD(learning_rate=0.001),metrics=[\"accuracy\"])\n",
        "# train the network\n",
        "print(\"[INFO] training network...\")"
      ],
      "execution_count": 18,
      "outputs": [
        {
          "output_type": "stream",
          "text": [
            "[INFO] training network...\n"
          ],
          "name": "stdout"
        }
      ]
    },
    {
      "cell_type": "code",
      "metadata": {
        "colab": {
          "base_uri": "https://localhost:8080/"
        },
        "id": "GOWVItJeuEzH",
        "outputId": "eb29161a-b539-4c53-c3e2-899413ab9d09"
      },
      "source": [
        "history=model.fit(\n",
        "         np_image_list,image_labels,\n",
        "         validation_split=0.2,\n",
        "          # aug.flow(x_train,y_train,batch_size=BS),\n",
        "          epochs=EPOCHS,\n",
        "          # validation_data=(x_test, y_test),\n",
        "          validation_freq=1,\n",
        "          )\n"
      ],
      "execution_count": 20,
      "outputs": [
        {
          "output_type": "stream",
          "text": [
            "Epoch 1/10\n",
            "62/62 [==============================] - 145s 2s/step - loss: 0.6918 - accuracy: 0.8717 - val_loss: 0.2163 - val_accuracy: 0.9960\n",
            "Epoch 2/10\n",
            "62/62 [==============================] - 144s 2s/step - loss: 0.5257 - accuracy: 0.9111 - val_loss: 2.3225 - val_accuracy: 0.2586\n",
            "Epoch 3/10\n",
            "62/62 [==============================] - 145s 2s/step - loss: 0.3407 - accuracy: 0.9369 - val_loss: 7.9931 - val_accuracy: 0.0101\n",
            "Epoch 4/10\n",
            "62/62 [==============================] - 146s 2s/step - loss: 0.2432 - accuracy: 0.9556 - val_loss: 0.5803 - val_accuracy: 0.8687\n",
            "Epoch 5/10\n",
            "62/62 [==============================] - 146s 2s/step - loss: 0.2129 - accuracy: 0.9591 - val_loss: 0.8394 - val_accuracy: 0.8020\n",
            "Epoch 6/10\n",
            "62/62 [==============================] - 149s 2s/step - loss: 0.1676 - accuracy: 0.9717 - val_loss: 7.2317 - val_accuracy: 0.0828\n",
            "Epoch 7/10\n",
            "62/62 [==============================] - 145s 2s/step - loss: 0.1617 - accuracy: 0.9712 - val_loss: 1.0967 - val_accuracy: 0.7333\n",
            "Epoch 8/10\n",
            "62/62 [==============================] - 145s 2s/step - loss: 0.0884 - accuracy: 0.9818 - val_loss: 0.4384 - val_accuracy: 0.9333\n",
            "Epoch 9/10\n",
            "62/62 [==============================] - 145s 2s/step - loss: 0.1267 - accuracy: 0.9747 - val_loss: 1.2680 - val_accuracy: 0.7131\n",
            "Epoch 10/10\n",
            "62/62 [==============================] - 146s 2s/step - loss: 0.1330 - accuracy: 0.9763 - val_loss: 0.5130 - val_accuracy: 0.9333\n"
          ],
          "name": "stdout"
        }
      ]
    },
    {
      "cell_type": "code",
      "metadata": {
        "colab": {
          "base_uri": "https://localhost:8080/",
          "height": 297
        },
        "id": "dFpZpPkiuH1-",
        "outputId": "92d82e8d-66ca-4f4a-f349-07589b49af4f"
      },
      "source": [
        "plt.figure(1)\n",
        "\n",
        "# summarize history for accuracy\n",
        "\n",
        "plt.subplot(211)\n",
        "plt.plot(history.history['accuracy'])\n",
        "plt.plot(history.history['val_accuracy'])\n",
        "plt.title('Model Accuracy')\n",
        "plt.ylabel('Accuracy')\n",
        "plt.xlabel('Epoch')\n",
        "plt.legend(['Training', 'Validation'], loc='lower right')\n",
        "\n",
        "# summarize history for loss\n",
        "\n",
        "plt.subplot(212)\n",
        "plt.plot(history.history['loss'])\n",
        "plt.plot(history.history['val_loss'])\n",
        "plt.title('Model Loss')\n",
        "plt.ylabel('Loss')\n",
        "plt.xlabel('Epoch')\n",
        "plt.legend(['Training', 'Validation'], loc='upper right')\n",
        "\n",
        "plt.tight_layout()\n",
        "\n",
        "plt.show()"
      ],
      "execution_count": 21,
      "outputs": [
        {
          "output_type": "display_data",
          "data": {
            "image/png": "[encoded data removed]",
            "text/plain": [
              "<Figure size 432x288 with 2 Axes>"
            ]
          },
          "metadata": {
            "tags": [],
            "needs_background": "light"
          }
        }
      ]
    },
    {
      "cell_type": "code",
      "metadata": {
        "colab": {
          "base_uri": "https://localhost:8080/"
        },
        "id": "pGNRLTk9uQwP",
        "outputId": "5bac3a9d-5bf4-4751-c0b8-2fc6bebffdba"
      },
      "source": [
        "print(\"[INFO] Calculating model accuracy\")\n",
        "scores = model.evaluate(x_test, y_test)\n",
        "print(f\"Test Accuracy: {scores[1]*100}\")"
      ],
      "execution_count": 22,
      "outputs": [
        {
          "output_type": "stream",
          "text": [
            "[INFO] Calculating model accuracy\n",
            "16/16 [==============================] - 7s 454ms/step - loss: 0.4699 - accuracy: 0.9475\n",
            "Test Accuracy: 94.7474718093872\n"
          ],
          "name": "stdout"
        }
      ]
    },
    {
      "cell_type": "code",
      "metadata": {
        "colab": {
          "base_uri": "https://localhost:8080/"
        },
        "id": "GMHIrNSMuZFy",
        "outputId": "65c64068-4c3a-441b-8eec-e43c04f817e9"
      },
      "source": [
        "# save the model to disk\n",
        "print(\"[INFO] Saving model...\")\n",
        "model.save('/content/drive/MyDrive/Dataset_ML/Detection/Models/CNN_MODEL2.h5')\n",
        "print(\"[INFO] saved\")\n"
      ],
      "execution_count": 45,
      "outputs": [
        {
          "output_type": "stream",
          "text": [
            "[INFO] Saving model...\n",
            "[INFO] saved\n"
          ],
          "name": "stdout"
        }
      ]
    }
  ]
}